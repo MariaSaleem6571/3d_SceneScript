{
 "cells": [
  {
   "cell_type": "code",
   "execution_count": 1,
   "metadata": {},
   "outputs": [
    {
     "ename": "",
     "evalue": "",
     "output_type": "error",
     "traceback": [
      "\u001b[1;31mThe Kernel crashed while executing code in the the current cell or a previous cell. Please review the code in the cell(s) to identify a possible cause of the failure. Click <a href='https://aka.ms/vscodeJupyterKernelCrash'>here</a> for more info. View Jupyter <a href='command:jupyter.viewOutput'>log</a> for further details."
     ]
    }
   ],
   "source": [
    "import torch\n",
    "import torch.nn as nn\n",
    "import torch_sparse\n",
    "import torchsparse.nn.functional as F\n",
    "from torchsparse import SparseTensor\n",
    "from torchsparse.nn import SparseConv3d\n",
    "\n",
    "# Minimal example data\n",
    "coordinates = torch.tensor([\n",
    "    [0, 0, 0, 0],\n",
    "    [0, 1, 1, 1],\n",
    "    [0, 2, 2, 2],\n",
    "    [0, 3, 3, 3]\n",
    "], dtype=torch.int32)\n",
    "features = torch.tensor([\n",
    "    [1.0],\n",
    "    [2.0],\n",
    "    [3.0],\n",
    "    [4.0]\n",
    "], dtype=torch.float32)\n",
    "\n",
    "# Create sparse tensor\n",
    "sparse_tensor = SparseTensor(features, coordinates)\n",
    "\n",
    "# Verify the sparse tensor creation\n",
    "print(\"Coordinates:\", coordinates)\n",
    "print(\"Features:\", features)\n",
    "print(\"SparseTensor Feature Shape:\", sparse_tensor.F.shape)\n",
    "print(\"SparseTensor Coordinate Shape:\", sparse_tensor.C.shape)\n",
    "\n",
    "# Define a simple sparse conv network\n",
    "class SimpleSparseConvNet(nn.Module):\n",
    "    def __init__(self):\n",
    "        super(SimpleSparseConvNet, self).__init__()\n",
    "        self.conv1 = SparseConv3d(1, 4, kernel_size=2, stride=1)\n",
    "\n",
    "    def forward(self, x):\n",
    "        print(f\"Input: features shape {x.F.shape}, coordinates shape {x.C.shape}\")\n",
    "        x = self.conv1(x)\n",
    "        print(f\"Output: features shape {x.F.shape}, coordinates shape {x.C.shape}\")\n",
    "        return x\n",
    "\n",
    "# Initialize the model\n",
    "model = SimpleSparseConvNet()\n",
    "\n",
    "# Forward pass on CPU\n",
    "try:\n",
    "    output = model(sparse_tensor.cpu())\n",
    "    print(\"Forward pass successful\")\n",
    "    print(\"Output features:\", output.F)\n",
    "    print(\"Output coordinates:\", output.C)\n",
    "except RuntimeError as e:\n",
    "    print(f\"RuntimeError during forward pass: {e}\")\n",
    "    import traceback\n",
    "    traceback.print_exc()\n",
    "except NotImplementedError as e:\n",
    "    print(f\"NotImplementedError during forward pass: {e}\")\n",
    "    import traceback\n",
    "    traceback.print_exc()\n",
    "except Exception as e:\n",
    "    print(f\"Unexpected error: {e}\")\n",
    "    import traceback\n",
    "    traceback.print_exc()\n"
   ]
  },
  {
   "cell_type": "code",
   "execution_count": 13,
   "metadata": {},
   "outputs": [
    {
     "name": "stdout",
     "output_type": "stream",
     "text": [
      "Input: shape torch.Size([1, 1, 4, 4, 4])\n",
      "Output: shape torch.Size([1, 4, 3, 3, 3])\n",
      "Dense forward pass successful\n",
      "Output shape: torch.Size([1, 4, 3, 3, 3])\n"
     ]
    }
   ],
   "source": [
    "class SimpleDenseConvNet(nn.Module):\n",
    "    def __init__(self):\n",
    "        super(SimpleDenseConvNet, self).__init__()\n",
    "        self.conv1 = nn.Conv3d(1, 4, kernel_size=2, stride=1)\n",
    "\n",
    "    def forward(self, x):\n",
    "        print(f\"Input: shape {x.shape}\")\n",
    "        x = self.conv1(x)\n",
    "        print(f\"Output: shape {x.shape}\")\n",
    "        return x\n",
    "\n",
    "# Convert sparse tensor to dense format for testing\n",
    "dense_tensor = torch.zeros((1, 1, 4, 4, 4))  # Adjust shape as necessary\n",
    "for idx, coord in enumerate(coordinates):\n",
    "    dense_tensor[0, 0, coord[1], coord[2], coord[3]] = features[idx]\n",
    "\n",
    "# Initialize the model\n",
    "dense_model = SimpleDenseConvNet()\n",
    "\n",
    "# Forward pass\n",
    "try:\n",
    "    dense_output = dense_model(dense_tensor)\n",
    "    print(\"Dense forward pass successful\")\n",
    "    print(\"Output shape:\", dense_output.shape)\n",
    "except RuntimeError as e:\n",
    "    print(f\"RuntimeError during dense forward pass: {e}\")\n",
    "    traceback.print_exc()\n",
    "except Exception as e:\n",
    "    print(f\"Unexpected error: {e}\")\n",
    "    traceback.print_exc()\n"
   ]
  },
  {
   "cell_type": "code",
   "execution_count": 3,
   "metadata": {},
   "outputs": [
    {
     "name": "stdout",
     "output_type": "stream",
     "text": [
      "PyTorch version: 2.3.1+cu121\n",
      "CUDA available: True\n",
      "CUDA version: 12.1\n"
     ]
    }
   ],
   "source": [
    "import torch\n",
    "print(\"PyTorch version:\", torch.__version__)\n",
    "print(\"CUDA available:\", torch.cuda.is_available())\n",
    "print(\"CUDA version:\", torch.version.cuda)\n"
   ]
  }
 ],
 "metadata": {
  "kernelspec": {
   "display_name": "Python 3",
   "language": "python",
   "name": "python3"
  },
  "language_info": {
   "codemirror_mode": {
    "name": "ipython",
    "version": 3
   },
   "file_extension": ".py",
   "mimetype": "text/x-python",
   "name": "python",
   "nbconvert_exporter": "python",
   "pygments_lexer": "ipython3",
   "version": "3.8.10"
  }
 },
 "nbformat": 4,
 "nbformat_minor": 2
}
